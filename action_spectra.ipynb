{
 "cells": [
  {
   "cell_type": "markdown",
   "id": "a47d1aca-14f5-41ad-9579-e95371181b1f",
   "metadata": {},
   "source": [
    "## Calculate Action Spectra Statistics (Multiple Stim Wavelengths) for Multiple Cells\n"
   ]
  },
  {
   "cell_type": "markdown",
   "id": "7d324d96-605d-4030-87c7-8ca00e15cc71",
   "metadata": {},
   "source": [
    "Hold the cell at -70 mV.\\\n",
    "(This is suitable for both neurons and HEK cells, although HEK cells will be quite happy to sit at a holding voltage of 0 mV.)\n",
    "\n",
    "#### Protocol\n",
    "Each run usually consists of a (rectangular) voltage step away from the expected reversal potential (see below) followed by a (rectangular) light stim at a particular wavelength (i.e. a particular LED). The light stim is fully contained within the voltage step (if there is a voltage step). For instance, the timings of the voltage and light stim ON and OFF steps might be: voltage-step ON at 3 sec, light-stim ON at 4 sec, light-stim OFF at 5 sec, voltage-step OFF at 6 sec. If the channel has slow kinetics (i.e. if the trace doesn't reach a baseline before voltage-OFF), then increase the time interval between light-OFF and voltage-OFF to record the full return to baseline.\n",
    "\n",
    "In order to build up an Action Spectrum, this protocol sequence is repeated multiple times, changing the wavelength each time.\n",
    "\n",
    "#### Why step the voltage prior to light stim?\n",
    "Stepping the voltage prior to light stim is aimed at maximizing the change in current resulting from channel opening.\\\n",
    "Reversal potential for an *inhibitory channel* will be somewhere around -70 mV, so step the voltage to 0 mV (or thereabouts) prior to light stim.\\\n",
    "By contrast, reversal potential for an *excitatory channel* will be somewhere around 0 mV, so keep the voltage at -70 mV (or thereabouts) prior to light stim.\n",
    "\n",
    "#### Calculations for both inhibitory and excitatory activity\n",
    "This Jupyter notebook will calculate statistics from both inhibitory and excitatory light stim traces, based upon which direction the current trace moves after light stim. No manual adjustments are required to switch between calculating inhibitory or excitatory statistics."
   ]
  },
  {
   "cell_type": "markdown",
   "id": "0ad9ba50-c571-4461-bf4e-8a86e03e1d4d",
   "metadata": {},
   "source": [
    "### Import relevant modules"
   ]
  },
  {
   "cell_type": "code",
   "execution_count": null,
   "id": "ed7b3977",
   "metadata": {},
   "outputs": [],
   "source": [
    "import numpy as np\n",
    "import pyabf\n",
    "import matplotlib.pyplot as plt\n",
    "import scipy\n",
    "import glob2\n",
    "import pandas as pd\n",
    "import seaborn as sns\n",
    "from scipy.optimize import curve_fit"
   ]
  },
  {
   "cell_type": "markdown",
   "id": "6c61219e-79b6-4172-8210-588cb91b4c01",
   "metadata": {},
   "source": [
    "### Set overall variables\n",
    "The file_trunk is used in filenames for saving dataframes and charts. Here, the format is: \"experimentDateYYYYMMDD_cellType_proteinName_\""
   ]
  },
  {
   "cell_type": "code",
   "execution_count": null,
   "id": "a72bf0eb-c9f2-4559-b050-49903cfe575a",
   "metadata": {},
   "outputs": [],
   "source": [
    "file_trunk = '20220505_HEK_KCR_'"
   ]
  },
  {
   "attachments": {},
   "cell_type": "markdown",
   "id": "2175c2ce-6249-4e61-bc57-3d583f308b7d",
   "metadata": {},
   "source": [
    "### Create list of all abf files with \"step_hold\" in their protocol name"
   ]
  },
  {
   "cell_type": "code",
   "execution_count": null,
   "id": "55fe3f43",
   "metadata": {},
   "outputs": [],
   "source": [
    "# generate list of files from current directory ending in \".abf\"\n",
    "path = 'example_abf_files/'\n",
    "list_of_files = sorted(glob2.glob(path + \"*.abf\"))\n",
    "\n",
    "# Create list of only those abf files that have \"step_hold\" in their protocol name\n",
    "spectrumlist = []\n",
    "for file in list_of_files:\n",
    "    abf = pyabf.ABF(file)\n",
    "    fullstring = abf.protocol\n",
    "    substring1 = \"step_hold\"  # specific to inhibitory protocols (includes a +70 mV voltage step)\n",
    "    substring2 = \"stim1sec\"   # specific to excitatory protocols (does not include a voltage step)\n",
    "    if substring1 in fullstring:      # Search for substring1 in the fullstring\n",
    "        spectrumlist.append(file)     # Add the filename to the list\n",
    "    if substring2 in fullstring:      # Search for substring2 in the fullstring\n",
    "        spectrumlist.append(file)     # Add the filename to the list\n",
    "        \n",
    "# Display the list\n",
    "display(spectrumlist)"
   ]
  },
  {
   "cell_type": "markdown",
   "id": "3b77c7d8-bf3b-431c-b07b-82cbbdab2ea9",
   "metadata": {},
   "source": [
    "### Remove unwanted files from list"
   ]
  },
  {
   "cell_type": "code",
   "execution_count": null,
   "id": "abfcd0a3",
   "metadata": {},
   "outputs": [],
   "source": [
    "#spectrumlist.remove(path + '20220407_0002.abf')\n",
    "#spectrumlist.remove(path + '20220407_0003.abf')\n",
    "#spectrumlist.remove(path + '20220407_0004.abf')\n",
    "#spectrumlist.remove(path + '20220407_0005.abf')\n",
    "#spectrumlist.remove(path + '20220407_0006.abf')\n",
    "#spectrumlist.remove(path + '20220407_0007.abf')\n",
    "#len(spectrumlist)"
   ]
  },
  {
   "cell_type": "markdown",
   "id": "1f7d12bd-59b6-4246-9a87-c47dd4fbf78d",
   "metadata": {},
   "source": [
    "### Read out summary information of a single abf file"
   ]
  },
  {
   "cell_type": "code",
   "execution_count": null,
   "id": "3795169c-8a17-4f9f-9781-fdd87b0d86e4",
   "metadata": {},
   "outputs": [],
   "source": [
    "file = spectrumlist[3]\n",
    "abf = pyabf.ABF(file)\n",
    "abf"
   ]
  },
  {
   "cell_type": "markdown",
   "id": "5aa9587b-91b8-4681-9f8c-b04baab7f202",
   "metadata": {
    "tags": []
   },
   "source": [
    "### Define module for plotting all channels in a run"
   ]
  },
  {
   "cell_type": "code",
   "execution_count": null,
   "id": "650c8d91-a113-4882-9c9d-580a489267a3",
   "metadata": {},
   "outputs": [],
   "source": [
    "def plot_multichannelabf(abf_filename, xaxis_min=0, xaxis_max=0, lightstim_starttime=10.8594, lightstim_endtime=11.8594):\n",
    "    \"\"\"For an abf file with multiple channels, plot each channel one on top of the other. \n",
    "    Need to manually set light-stim time boundaries because different protocols have different \n",
    "    settings for the light stim epoch.\"\"\"\n",
    "    \n",
    "    # Load file to plot.\n",
    "    abf = pyabf.ABF(abf_filename)\n",
    "    \n",
    "    # Voltage-step epoch: extract the start and end time.\n",
    "    channelNumber = 0\n",
    "    epochNumber = 4\n",
    "    abf.setSweep(sweepNumber=0, channel=channelNumber)\n",
    "    try:\n",
    "        v1 = abf.sweepEpochs.p1s[epochNumber] * abf.dataSecPerPoint   # start of epoch, converted to time (in sec)\n",
    "        v2 = abf.sweepEpochs.p2s[epochNumber] * abf.dataSecPerPoint   # end of epoch, converted to time (in sec)\n",
    "    except:\n",
    "        v1 = 10.359350000000001\n",
    "        v2 = 12.359350000000001\n",
    "        \n",
    "    # Light-stim epoch: extract the start and end time.\n",
    "    l1 = lightstim_starttime\n",
    "    l2 = lightstim_endtime\n",
    "\n",
    "    # Set other periods for calculations.\n",
    "    b1 = l1 - 0.201 # pre-light stim baseline, start time\n",
    "    b2 = l1 - 0.001 # pre-light stim baseline, end time\n",
    "    k1 = l2 - 0.101 # last 100 ms of light stim, start time\n",
    "    k2 = l2 - 0.001 # last 100 ms of light stim, end time\n",
    "    \n",
    "    # List of channels to plot.\n",
    "    ycol = abf.channelList\n",
    "    nSubplots = len(ycol)\n",
    "    nSubplots_list = np.arange(0,len(ycol))\n",
    "\n",
    "    # Plot the data from each sweep.\n",
    "    f, axs = plt.subplots(nSubplots, 1, figsize=(8, (nSubplots*2.5)), sharey=False, sharex=True)\n",
    "    for i,j in zip(ycol, nSubplots_list):\n",
    "        abf.setSweep(sweepNumber=0, channel=i)\n",
    "        sns.lineplot(x=abf.sweepX, y=abf.sweepY, ax=axs[j], label=\"Channel \" + str(i))\n",
    "        if i == 0:\n",
    "            axs[j].set_ylabel(abf.sweepLabelC)\n",
    "            axs[j].set_title(abf_filename)\n",
    "        else:\n",
    "            axs[j].set_ylabel(abf.sweepLabelY)\n",
    "        axs[j].set_xlabel(abf.sweepLabelX)\n",
    "        if xaxis_max == 0:\n",
    "            axs[j].set_xlim(auto=True)\n",
    "        else:\n",
    "            axs[j].set_xlim(xaxis_min, xaxis_max)\n",
    "        axs[j].axvspan(v1,v2, color='k', alpha=.1, label=\"voltage step\")\n",
    "        axs[j].axvspan(l1,l2, color='y', alpha=.2, label=\"light stim\")\n",
    "        axs[j].axvspan(b1,b2, color='b', alpha=.1, label=\"pre-light on\")\n",
    "        axs[j].axvspan(k1,k2, color='g', alpha=.1, label=\"pre-light off\")\n",
    "        axs[j].legend(loc=\"upper right\")\n",
    "\n",
    "    # Seaborn formatting\n",
    "    f.tight_layout()\n",
    "    sns.despine(fig=f)\n",
    "    print('KEY TIME PERIODS:')\n",
    "    print(f'Voltage step: {v1} to {v2} sec')\n",
    "    print(f'Light stim: {l1} to {l2} sec')\n",
    "    print(f'Baseline pre-light on: {b1} to {b2} sec')\n",
    "    print(f'Baseline pre-light off: {k1} to {k2} sec')\n"
   ]
  },
  {
   "cell_type": "markdown",
   "id": "b897785d-099a-4419-b172-8190f43b581a",
   "metadata": {
    "tags": []
   },
   "source": [
    "### Plot an example of step_hold run\n",
    "This is to check that the voltage step and light stime epochs are found correctly for this protocol, before proceeding with calculations."
   ]
  },
  {
   "cell_type": "code",
   "execution_count": null,
   "id": "79512caa-21ba-4501-ba0b-b7a105d5edd2",
   "metadata": {},
   "outputs": [],
   "source": [
    "plot_multichannelabf(abf_filename=spectrumlist[3], xaxis_min=10, xaxis_max=13.5)"
   ]
  },
  {
   "cell_type": "markdown",
   "id": "41a7e549-a676-4ed8-a190-343da0da9c9c",
   "metadata": {
    "tags": []
   },
   "source": [
    "### Define modules to calculate, display and plot action spectrum statistics\n"
   ]
  },
  {
   "cell_type": "code",
   "execution_count": null,
   "id": "9ea061d6-da4d-4bef-b76a-2803d88577ce",
   "metadata": {},
   "outputs": [],
   "source": [
    "def monoExp(x, m, t, b):  \n",
    "    \"\"\"Single exponential decay function.\"\"\"\n",
    "    return m * np.exp(-t * x) + b\n",
    "    \n",
    "def lightstimstats(abf_filename, rate_hz=10000, lightstim_starttime=10.8594, lightstim_endtime=11.8594):\n",
    "    \"\"\"Calculate light stim statistics for a single input file.\"\"\"\n",
    "    # abf_filename : input file\n",
    "    # rate_hz : the dataRate in Hz (points per sec)\n",
    "    # dV : delta/change of the voltage (the size of the voltage step, determined by the stim protocol)\n",
    "    # lightstim_starttime : manual entry of start of light-stim epoch\n",
    "    # lightstim_endtime : manual entry of end of light-stim epoch\n",
    "    \n",
    "    # Load file to plot.\n",
    "    abf = pyabf.ABF(abf_filename)\n",
    "    rate_hz = abf.dataRate\n",
    "    \n",
    "    # This dictionary is what gets returned at the end.\n",
    "    stats_dict={\"Run ID\":abf.abfID}\n",
    "    stats_dict[\"Date Time\"] = str(abf.abfDateTime)\n",
    "    stats_dict[\"Protocol\"] = abf.protocol\n",
    "    stats_dict[\"Wavelength\"] = abf.adcNames[2]\n",
    "    \n",
    "    # Voltage-step epoch: extract the start and end time.\n",
    "    channelNumber = 0\n",
    "    epochNumber = 4\n",
    "    abf.setSweep(sweepNumber=0, channel=channelNumber)\n",
    "    try:\n",
    "        v1 = abf.sweepEpochs.p1s[epochNumber] * abf.dataSecPerPoint   # start of epoch, converted to time (in sec)\n",
    "        v2 = abf.sweepEpochs.p2s[epochNumber] * abf.dataSecPerPoint   # end of epoch, converted to time (in sec)\n",
    "    except:\n",
    "        v1 = 10.359350000000001\n",
    "        v2 = 12.359350000000001\n",
    "    \n",
    "    # Light-stim epoch: extract the start and end time.\n",
    "    l1 = lightstim_starttime\n",
    "    l2 = lightstim_endtime\n",
    "\n",
    "    # Set other periods for calculations.\n",
    "    b1 = l1 - 0.201   # pre-light stim baseline, start time\n",
    "    b2 = l1 - 0.001   # pre-light stim baseline, end time\n",
    "    k1 = l2 - 0.101   # last 100 ms of light stim, start time\n",
    "    k2 = l2 - 0.001   # last 100 ms of light stim, end time\n",
    "    \n",
    "    # Convert timing periods to datapoints for calculations.\n",
    "    l1_datapoints = int(l1 * rate_hz)   # light stim start time, in datapoints\n",
    "    l2_datapoints = int(l2 * rate_hz)   # light stim end time, in datapoints\n",
    "    k1_datapoints = int(k1 * rate_hz)   # last 100 ms of light stim, start time, in datapoints\n",
    "    k2_datapoints = int(k2 * rate_hz)   # last 100 ms of light stim, end time, in datapoints\n",
    "    v1_datapoints = int(v1 * rate_hz)   # voltage step start, in datapoints\n",
    "    v2_datapoints = int(v2 * rate_hz)   # voltage step end, in datapoints\n",
    "    \n",
    "    # Set sweep for calculations (need y-axis to be photocurrent).\n",
    "    channelNumber = 1\n",
    "    abf.setSweep(sweepNumber=0, channel=channelNumber, baseline=[b1,b2]) # N.B. baseline units need to be in seconds (so don't convert to datapoints)\n",
    "    \n",
    "    # Check for excitatory activity.\n",
    "    if np.mean(abf.sweepY[l1_datapoints:(l1_datapoints+100)]) < 0:   # if the trace goes downwards after light stim ON (i.e. excitatory channel activity)\n",
    "        # then flip the y-data across the x-axis (* -1) so that the following analysis is the same\n",
    "        Yl = -1 * np.array(abf.sweepY[l1_datapoints:l2_datapoints])   # N.B. abf.sweepY is in units datapoints\n",
    "        Yk = -1 * np.array(abf.sweepY[k1_datapoints:k2_datapoints])\n",
    "        Yp = -1 * np.array(abf.sweepY[l2_datapoints:v2_datapoints])\n",
    "        excitatory = True\n",
    "        dV = 0 *1e-3 # dV is in units Volts\n",
    "    else:      # if the trace goes upwards after light stim ON (i.e. inhibitory channel activity)\n",
    "        Yl = np.array(abf.sweepY[l1_datapoints:l2_datapoints])   # N.B. abf.sweepY is in units datapoints\n",
    "        Yk = np.array(abf.sweepY[k1_datapoints:k2_datapoints])\n",
    "        Yp = np.array(abf.sweepY[l2_datapoints:v2_datapoints])\n",
    "        excitatory = False\n",
    "        dV = 70 *1e-3 # dV is in units Volts\n",
    "        \n",
    "    stats_dict['Excitatory?'] = excitatory\n",
    "    stats_dict[\"dV\"] = dV*1e3   # dV is in units Volts, \"*1e3\" to convert to milliVolts (mV)\n",
    "    \n",
    "    ## PERIOD 1: DURING LIGHT-STIM (i.e. between L1 and L2)\n",
    "    # Make arrays for x and y values:\n",
    "    Xl = np.array(abf.sweepX[l1_datapoints:l2_datapoints])   # N.B. abf.sweepX is in units datapoints\n",
    "    \n",
    "    # Calculate peak current.\n",
    "    peakcurrent = np.amax(Yl)*1e-12  # peakcurrent is in Amps (\"*1e-12\" converts pA to A)     \n",
    "    stats_dict['Peak photocurrent (nA)'] = peakcurrent *1e9  # peakcurrent is in units Amps, \"*1e9\" to convert to nanoAmps (nA)\n",
    "    \n",
    "    # Calculate time-to-peak: find X (time) at max Y (photocurrent).\n",
    "    X_atMaxY = Xl[np.argmax(Yl)]\n",
    "    timeToPeak = (X_atMaxY - l1)   # timeToPeak is in seconds\n",
    "    stats_dict['Time to peak (ms)'] = timeToPeak *1e3  # timeToPeak is in units seconds, \"*1e3\" to convert to milliseconds (ms)\n",
    "    \n",
    "    # Calculate tau-off from peak current to steady-state.\n",
    "    # make new arrays starting from maximum Y value (argmax) i.e. peak photocurrent\n",
    "    Yl_fromMaxY = Yl[np.argmax(Yl):]\n",
    "    Xl_fromMaxY = Xl[np.argmax(Yl):]\n",
    "    tau1_dict={\"Xl\":Xl}\n",
    "    tau1_dict[\"Yl\"] = Yl\n",
    "    tau1_dict[\"Xl_fromMaxY\"] = Xl_fromMaxY\n",
    "    # Calculate the tau value and fit; perform the fit:\n",
    "    try:        # placed inside try/except because sometimes a fit cannot be found in the given maxfev\n",
    "        p0_l = (1000, 0.1, 1000)   # start with values near those we expect\n",
    "        params_l, cv = scipy.optimize.curve_fit(monoExp, Xl_fromMaxY, Yl_fromMaxY, p0_l, maxfev=30000)\n",
    "        m_l, t_l, b_l = params_l\n",
    "        tau_light = (1 / t_l)    # tau_light is in units seconds\n",
    "        # determine quality of the fit:\n",
    "        squaredDiffs = np.square(Yl_fromMaxY - monoExp(Xl_fromMaxY, m_l, t_l, b_l))\n",
    "        squaredDiffsFromMean = np.square(Yl_fromMaxY - np.mean(Yl_fromMaxY))\n",
    "        rSquared_light = 1 - np.sum(squaredDiffs) / np.sum(squaredDiffsFromMean)\n",
    "        stats_dict[\"Tau-off1 (ms)\"] = tau_light*1e3      # tau_light is in units seconds, \"*1e3\" to convert to milliSec (ms)\n",
    "        stats_dict[\"R² for Tau-off1\"] = rSquared_light\n",
    "        tau1_dict[\"m_l\"] = m_l\n",
    "        tau1_dict[\"b_l\"] = b_l\n",
    "        tau1_dict[\"t_l\"] = t_l\n",
    "    except:\n",
    "        pass\n",
    "\n",
    "    \n",
    "    ## PERIOD 2: Last 100 ms of LIGHT-STIM (i.e. between K1 and K2)\n",
    "    # Calculate steady-state photocurrent.\n",
    "    steadycurrent = np.mean(Yk)*1e-12  # find mean for the array of sweepY values between k1 and k2; steadycurrent is in Amps (\"*1e-12\" converts pA to A) \n",
    "    stats_dict['Steady-state photocurrent (nA)'] = steadycurrent *1e9  # steadycurrent is in units Amps, \"*1e9\" to convert to nanoAmps (nA)\n",
    "\n",
    "    # Calculate ratio between steady-state and peak photocurrents\n",
    "    ratio_sp = steadycurrent/peakcurrent    # no units (both steadycurrent and peakcurrent in units Amps)\n",
    "    stats_dict['Ratio steady-to-peak'] = ratio_sp  # no units\n",
    "    \n",
    "    \n",
    "    ## PERIOD 3: AFTER LIGHT-STIM  (i.e. between L2 and V2)\n",
    "    # Calculate tau-off from peak current to steady-state.\n",
    "    # Make arrays for x and y values:\n",
    "    Xp = np.array(abf.sweepX[l2_datapoints:v2_datapoints])\n",
    "    # make new arrays starting from maximum Y value (argmax) i.e. peak photocurrent\n",
    "    Yp_fromMaxY = Yp[np.argmax(Yp):]\n",
    "    Xp_fromMaxY = Xp[np.argmax(Yp):]\n",
    "    tau2_dict={\"Xp\":Xp}\n",
    "    tau2_dict[\"Yp\"] = Yp\n",
    "    tau2_dict[\"Xp_fromMaxY\"] = Xp_fromMaxY\n",
    "    # perform the fit\n",
    "    try:      # placed inside try/except because sometimes a fit cannot be found in the given maxfev\n",
    "        p0_p = (1000, 0.1, 30) # start with values near those we expect\n",
    "        params_p, cv = scipy.optimize.curve_fit(monoExp, Xp_fromMaxY, Yp_fromMaxY, p0_p, maxfev=30000)\n",
    "        m_p, t_p, b_p = params_p\n",
    "        tau_postlight = (1 / t_p)    # tau_postlight is in units seconds\n",
    "        # determine quality of the fit\n",
    "        squaredDiffs = np.square(Yp_fromMaxY - monoExp(Xp_fromMaxY, m_p, t_p, b_p))\n",
    "        squaredDiffsFromMean = np.square(Yp_fromMaxY - np.mean(Yp_fromMaxY))\n",
    "        rSquared_postlight = 1 - np.sum(squaredDiffs) / np.sum(squaredDiffsFromMean)\n",
    "        stats_dict[\"Tau-off2 (ms)\"] = tau_postlight*1e3      # tau_postlight is in units seconds, \"*1e3\" to convert to milliSec (ms)\n",
    "        stats_dict[\"R² for Tau-off2\"] = rSquared_postlight\n",
    "        tau2_dict[\"m_p\"] = m_p\n",
    "        tau2_dict[\"b_p\"] = b_p\n",
    "        tau2_dict[\"t_p\"] = t_p\n",
    "    except:\n",
    "        pass\n",
    "    \n",
    "    return stats_dict, tau1_dict, tau2_dict\n",
    "\n",
    "def display_lightstimstats(stats_dict):\n",
    "    \"\"\"Given a lightstimstats dictionary, show the important stuff with its units.\"\"\"\n",
    "    print(\"Run ID: \" + stats_dict[\"Run ID\"])\n",
    "    print(\"Date Time: \" + stats_dict[\"Date Time\"])\n",
    "    print(\"Protocol: \" + stats_dict[\"Protocol\"])\n",
    "    print(\"Wavelength: \" + stats_dict[\"Wavelength\"])\n",
    "    print(\"Voltage step: %.02f mV\"%(stats_dict[\"dV\"]))\n",
    "    print(\"Excitatory?: \" + str(stats_dict[\"Excitatory?\"]))\n",
    "    print(\"Peak photocurrent: %.03f nA\"%(stats_dict[\"Peak photocurrent (nA)\"]))\n",
    "    print(\"Time to peak: %.02f ms\"%(stats_dict[\"Time to peak (ms)\"]))\n",
    "    print(\"Steady-state photocurrent: %.03f nA\"%(stats_dict[\"Steady-state photocurrent (nA)\"]))\n",
    "    print(\"Ratio steady-to-peak: %.02f\"%(stats_dict[\"Ratio steady-to-peak\"]))\n",
    "    try:\n",
    "        print(\"Tau-off1 (ms): %.03f ms\"%(stats_dict[\"Tau-off1 (ms)\"]))\n",
    "        print(\"Tau-off1 R² (peak-to-steadystate):  %.03f\"%(stats_dict[\"R² for Tau-off1\"]))\n",
    "        print(\"Tau-off2 (ms): %.03f ms\"%(stats_dict[\"Tau-off2 (ms)\"]))\n",
    "        print(\"Tau-off2 R² (peak-to-steadystate):  %.03f\"%(stats_dict[\"R² for Tau-off2\"]))\n",
    "    except:\n",
    "        print(\"Tau-off1 (ms): calculation error\")\n",
    "        print(\"Tau-off1 R² (peak-to-steadystate):  calculation error\")\n",
    "        print(\"Tau-off2 (ms): calculation error\")\n",
    "        print(\"Tau-off2 R² (peak-to-steadystate):  calculation error\")\n",
    "\n",
    "def plot_lightstimstats(stats_dict, tau1_dict, tau2_dict, savefig=False):\n",
    "    \"\"\"Plot the lightstimstats curves to show the goodness of fit.\"\"\"\n",
    "    fig = plt.figure(figsize=(15, 5))\n",
    "    plt.plot((tau1_dict[\"Xl\"]),(tau1_dict[\"Yl\"]), '.', label=\"during light stim, data\")\n",
    "    plt.plot((tau2_dict[\"Xp\"]), (tau2_dict[\"Yp\"]), '.', label=\"after light stim, data\")\n",
    "    try:\n",
    "        plt.plot((tau1_dict[\"Xl_fromMaxY\"]), monoExp((tau1_dict[\"Xl_fromMaxY\"]), (tau1_dict[\"m_l\"]), (tau1_dict[\"t_l\"]), (tau1_dict[\"b_l\"])), '--', label=\"during light stim, fitted\")\n",
    "    except:\n",
    "        pass\n",
    "    try:\n",
    "        plt.plot((tau2_dict[\"Xp_fromMaxY\"]), monoExp((tau2_dict[\"Xp_fromMaxY\"]), (tau2_dict[\"m_p\"]), (tau2_dict[\"t_p\"]), (tau2_dict[\"b_p\"])), '--', label=\"after light stim, fitted\")\n",
    "    except:\n",
    "        pass\n",
    "    plt.ylabel(\"Current (pA)\")\n",
    "    plt.xlabel(\"Time (sec)\")\n",
    "    plt.title(stats_dict[\"Run ID\"] + \" \" + stats_dict[\"Protocol\"] + \" tau-fit\")\n",
    "    if savefig==True:\n",
    "        plt.savefig(stats_dict[\"Run ID\"] + \"_\" + stats_dict[\"Protocol\"] + \"_tau-fit\" +'.png')\n",
    "    plt.legend()\n",
    "    plt.show()\n",
    "    "
   ]
  },
  {
   "cell_type": "markdown",
   "id": "da96b7bb-24ea-4445-b084-0355d8bca274",
   "metadata": {},
   "source": [
    "### Calculate light stim statistics for single run"
   ]
  },
  {
   "cell_type": "code",
   "execution_count": null,
   "id": "83c43321-80c7-44fb-9dde-66c83b0a879d",
   "metadata": {},
   "outputs": [],
   "source": [
    "# Enter an abf file:\n",
    "file = spectrumlist[3]\n",
    "\n",
    "# Run calculations.\n",
    "stats_dict, tau1_dict, tau2_dict = lightstimstats(file)\n",
    "\n",
    "# Display key statistics.\n",
    "display_lightstimstats(stats_dict)\n",
    "\n",
    "# Plot chart of key part of curve.\n",
    "plot_lightstimstats(stats_dict, tau1_dict, tau2_dict)"
   ]
  },
  {
   "cell_type": "markdown",
   "id": "70a6d7c0-e3bf-4df5-ba71-98489550f293",
   "metadata": {},
   "source": [
    "### Define module for calculating light stim statistics for multiple runs, putting the results into a dataframe"
   ]
  },
  {
   "cell_type": "code",
   "execution_count": null,
   "id": "73f4ca6f-8cd7-479a-92ca-3db449aa3301",
   "metadata": {},
   "outputs": [],
   "source": [
    "def multirun_lightstimstats(lightstim_list, makeplots=False, savefigs=False):\n",
    "    \"\"\"Enter a list of lightstim files to calculate statistics for all of them.\"\"\"\n",
    "    \n",
    "    # Create dataframe for storing output values.\n",
    "    df_spectrum = pd.DataFrame()\n",
    "\n",
    "    # Iterate across each file in the list.\n",
    "    for i,j in zip(lightstim_list, np.arange(0,len(lightstim_list))):\n",
    "\n",
    "        # Run calculations.\n",
    "        stats_dict, tau1_dict, tau2_dict = lightstimstats(i)\n",
    "\n",
    "        # Put stats_dict into a dataframe.\n",
    "        df_stats_dict = pd.DataFrame([stats_dict], index=[j])\n",
    "        \n",
    "        # Append this dataframe to main dataframe.\n",
    "        df_spectrum = pd.concat([df_spectrum,df_stats_dict], )\n",
    "        \n",
    "        if makeplots==True:\n",
    "            # Plot chart of key part of curve.\n",
    "            plot_lightstimstats(stats_dict, tau1_dict, tau2_dict, savefig=savefigs)\n",
    "            \n",
    "    return df_spectrum\n"
   ]
  },
  {
   "cell_type": "markdown",
   "id": "b0494d15-ccff-473a-a04a-d4f932b3dd14",
   "metadata": {},
   "source": [
    "### Calculate light stim statistics for list of two runs (small test case)"
   ]
  },
  {
   "cell_type": "code",
   "execution_count": null,
   "id": "1833f49d-38b7-4abc-9951-e2893e81d3f4",
   "metadata": {},
   "outputs": [],
   "source": [
    "# Create input list of filenames to calculate statistics for.\n",
    "spectrumlist_short = [spectrumlist[3], spectrumlist[4]]\n",
    "\n",
    "# Run module with input list.\n",
    "multirun_lightstimstats(spectrumlist_short, makeplots=True)"
   ]
  },
  {
   "cell_type": "markdown",
   "id": "75f92c0b-ef52-4afe-821b-964451eaa7ba",
   "metadata": {},
   "source": [
    "## Calculate light stim statistics for all files in spectrumlist\n",
    "Calculate light stim statistics for all files in spectrumlist and put all into a dataframe."
   ]
  },
  {
   "cell_type": "code",
   "execution_count": null,
   "id": "710b2ec4-1324-4d9d-86de-07d109ea8328",
   "metadata": {},
   "outputs": [],
   "source": [
    "# Run module with input list to calculate all statistics for all input files and output into a dataframe.\n",
    "df_spectrum = multirun_lightstimstats(spectrumlist, makeplots=False)"
   ]
  },
  {
   "cell_type": "code",
   "execution_count": null,
   "id": "4032f2da-8b5f-4b3b-82bf-193b84b38e3b",
   "metadata": {},
   "outputs": [],
   "source": [
    "# Display the output dataframe.\n",
    "display(df_spectrum)"
   ]
  },
  {
   "cell_type": "markdown",
   "id": "abcd0ae1-c3de-4c9d-b69b-92dc18ebb49e",
   "metadata": {},
   "source": [
    "### Add columns to the dataframe for cell labels (manual annotation)\n"
   ]
  },
  {
   "cell_type": "code",
   "execution_count": null,
   "id": "4d80780c",
   "metadata": {},
   "outputs": [],
   "source": [
    "# Add extra columns manually (write lists, add lists to dataframe)       \n",
    "cellpatchID = []  # For a particular date, what number cell does each run correspond to?\n",
    "cellpatchID += 6 * ['01']\n",
    "cellpatchID += 6 * ['05']  \n",
    "cellpatchID += 6 * ['13']\n",
    "cellpatchID += 6 * ['08']\n",
    "cellpatchID += 6 * ['10']\n",
    "cellpatchID += 6 * ['01']  \n",
    "cellpatchID += 6 * ['02']\n",
    "\n",
    "construct = []    # What is the protein variant's name?\n",
    "construct += 1* 6 * ['mutantX']\n",
    "construct += 1* 6 * ['mutantY']\n",
    "construct += 1* 6 * ['mutantZ']\n",
    "construct += 1* 6 * ['mutantA_excit']\n",
    "construct += 1* 6 * ['mutantB_excit']\n",
    "construct += 2* 6 * ['mutantQ']\n",
    "\n",
    "# Add the lists to the dataframe as new columns\n",
    "df_spectrum[\"Cell patch ID\"] = cellpatchID\n",
    "df_spectrum[\"Construct\"] = construct\n",
    "\n",
    "# Make a unique cell ID by combining the date with the cellpatchID => into new column \"Date_Cell\"\n",
    "df_spectrum['Date'] = df_spectrum['Date Time'].str.replace(r'\\ .*', '', regex=True).replace(r'\\-', '', regex=True) # pull out date from \"Date Time\"\n",
    "df_spectrum['Date_Cell'] = df_spectrum['Date'] + \"_\" + df_spectrum['Cell patch ID'].astype(str) # combine \"Date\" and \"Cell patch ID\"\n",
    "df_spectrum\n",
    "\n",
    "# Display the dataframe\n",
    "display(df_spectrum)"
   ]
  },
  {
   "cell_type": "markdown",
   "id": "d99af758-21eb-4d46-aa52-3ed1ea2b80c6",
   "metadata": {},
   "source": [
    "### Plot all action spectrum statistics to compare within and between categories\n",
    "The categories here are the wavelengths."
   ]
  },
  {
   "cell_type": "code",
   "execution_count": null,
   "id": "792a65c2-184c-4530-8be5-8fad98747ba0",
   "metadata": {},
   "outputs": [],
   "source": [
    "# Set category column for X-axis\n",
    "xcol = \"Wavelength\"\n",
    "\n",
    "# Set category column for hue (the color of the dots)\n",
    "zcol = 'Construct' # or 'Date_Cell'\n",
    "\n",
    "# List of statistics (column names) to plot\n",
    "ycol = ['Peak photocurrent (nA)', \n",
    "        'Steady-state photocurrent (nA)',\n",
    "        'Time to peak (ms)',\n",
    "        'Tau-off1 (ms)',\n",
    "        'R² for Tau-off1',\n",
    "        'Tau-off2 (ms)', \n",
    "        'R² for Tau-off2',\n",
    "        # add more statistics' names here for more plots\n",
    "       ]\n",
    "nSubplots = len(ycol)\n",
    "nSubplots_list = np.arange(0,len(ycol))\n",
    "\n",
    "# Plot the data from each column in the dataframe\n",
    "f, axs = plt.subplots(1, nSubplots, figsize=((nSubplots*3), 4), sharey=False)\n",
    "for i,j in zip(ycol, nSubplots_list):\n",
    "    sns.stripplot(data=df_spectrum, x=xcol, y=i, hue=zcol, ax=axs[j])\n",
    "    axs[j].tick_params(labelrotation=45)\n",
    "\n",
    "# Seaborn formatting\n",
    "f.tight_layout()\n",
    "sns.despine(fig=f)"
   ]
  },
  {
   "cell_type": "markdown",
   "id": "79bdfd9b-7f05-4f5f-a0a1-3c8ec9aa7f43",
   "metadata": {},
   "source": [
    "### Save figure as a png file"
   ]
  },
  {
   "cell_type": "code",
   "execution_count": null,
   "id": "a25b86d8",
   "metadata": {},
   "outputs": [],
   "source": [
    "out_path = 'output/'\n",
    "file_branch = 'actionspectra_'"
   ]
  },
  {
   "cell_type": "code",
   "execution_count": null,
   "id": "f549762a-45cf-40f8-a5d8-6124f8f0c5c4",
   "metadata": {},
   "outputs": [],
   "source": [
    "f.figure.savefig(out_path + file_trunk + \"actionspectra_stats.png\")"
   ]
  },
  {
   "cell_type": "markdown",
   "id": "6be643d9-4591-49cc-858f-3fe16d1f2f8d",
   "metadata": {},
   "source": [
    "## Export dataframe to csv files"
   ]
  },
  {
   "cell_type": "markdown",
   "id": "85a9ed5e-bd75-4b2b-9aab-b0391d141d6d",
   "metadata": {},
   "source": [
    "### Export dataframe, long-form:"
   ]
  },
  {
   "cell_type": "code",
   "execution_count": null,
   "id": "e0313412-3007-423a-aa66-5f92e3fc6683",
   "metadata": {},
   "outputs": [],
   "source": [
    "# Export dataframe to csv file.\n",
    "df_spectrum.to_csv(out_path + file_trunk + file_branch + 'stats_longform.csv', index=False)\n",
    "\n",
    "print('Wrote full dataframe to csv. Long-form: each row is one cell at one wavelength, each column is one statistic.')"
   ]
  },
  {
   "cell_type": "markdown",
   "id": "855377c5-c788-4b0a-8bde-2dfc6123b3ed",
   "metadata": {},
   "source": [
    "### Export dataframe by components, wide-form:"
   ]
  },
  {
   "cell_type": "code",
   "execution_count": null,
   "id": "ef3bacfe-41bf-42cd-b5bb-75f62e1243b9",
   "metadata": {},
   "outputs": [],
   "source": [
    "# Set up features for rearranging dataframe into pivot tables.\n",
    "pivot_index = 'Wavelength'\n",
    "pivot_columns = 'Date_Cell'\n",
    "pivot_values_list = ['Construct', \n",
    "                     'Peak photocurrent (nA)', \n",
    "                     'Steady-state photocurrent (nA)', \n",
    "                     'Ratio steady-to-peak', \n",
    "                     'Time to peak (ms)',\n",
    "                     'Tau-off1 (ms)',\n",
    "                     'R² for Tau-off1',\n",
    "                     'Tau-off2 (ms)',\n",
    "                     'R² for Tau-off2',\n",
    "                     # add more statistics' names here for more tables\n",
    "              ]\n",
    "\n",
    "# Convert to pivot table and export to csv:\n",
    "for i in pivot_values_list:\n",
    "    df_spectrum_wide = df_spectrum.pivot(index=pivot_index, columns=pivot_columns, values=i)\n",
    "    df_spectrum_wide.to_csv(out_path + file_trunk + file_branch + i + '_stats_wideform.csv', index=True)\n",
    "    \n",
    "print('Wrote all pivot tables to csv. Wide-form: each table is one statistic, each row is one wavelength, each column is one cell.')"
   ]
  }
 ],
 "metadata": {
  "kernelspec": {
   "display_name": "patchclamp",
   "language": "python",
   "name": "python3"
  },
  "language_info": {
   "codemirror_mode": {
    "name": "ipython",
    "version": 3
   },
   "file_extension": ".py",
   "mimetype": "text/x-python",
   "name": "python",
   "nbconvert_exporter": "python",
   "pygments_lexer": "ipython3",
   "version": "3.9.6"
  },
  "vscode": {
   "interpreter": {
    "hash": "ca23d6b76ae31c9053fbb9de1fe54d1c01c27bbf2bee1c8673b71408c6602293"
   }
  }
 },
 "nbformat": 4,
 "nbformat_minor": 5
}
