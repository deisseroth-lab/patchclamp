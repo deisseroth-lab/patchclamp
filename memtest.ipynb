{
 "cells": [
  {
   "cell_type": "markdown",
   "id": "b7e81363-11b2-4df7-ae78-8a8ebfed0be4",
   "metadata": {},
   "source": [
    "## Calculate Membrane Test Statistics for Multiple Runs\n"
   ]
  },
  {
   "cell_type": "markdown",
   "id": "9ef55fd4-3971-4f30-954e-6bcea8f97b95",
   "metadata": {},
   "source": [
    "\"Analysis of electrophysiological recordings was performed with custom software written for this project using Python 3.7 and the pyABF module¹.\"\n",
    "[1] Harden, SW (2020). pyABF 2.2.3. [Online]. Available: https://pypi.org/project/pyabf/, Accessed on: Sep. 24, 2019.\n",
    "\n",
    "**Protocol:**\n",
    "A membrane test protocol usually consists of a small rectangular step in voltage (e.g. +/-10 mV) for a short period of time (e.g. 200 ms). This is repeated a few times (e.g. 5-10x sweeps) for more consistent data."
   ]
  },
  {
   "cell_type": "markdown",
   "id": "3585ecb4-7596-49e7-8769-76f905e35bc6",
   "metadata": {},
   "source": [
    "### Import relevant modules"
   ]
  },
  {
   "cell_type": "code",
   "execution_count": null,
   "id": "0d4e3f2d-992c-4ba9-9175-f4c0d945a770",
   "metadata": {},
   "outputs": [],
   "source": [
    "import pyabf\n",
    "import numpy as np\n",
    "import pandas as pd\n",
    "import seaborn as sns\n",
    "import matplotlib.pyplot as plt\n",
    "import scipy\n",
    "import glob2"
   ]
  },
  {
   "cell_type": "markdown",
   "id": "b829ba38-7938-4d98-ae5f-034a3649930f",
   "metadata": {},
   "source": [
    "### Set overall variables\n",
    "The file_trunk is used in filenames for saving dataframes and charts. Here, the format is: \"experimentDateYYYYMMDD_cellType_proteinName_\""
   ]
  },
  {
   "cell_type": "code",
   "execution_count": null,
   "id": "8b1f5a56-04c7-4a77-9c48-93de4b505c33",
   "metadata": {},
   "outputs": [],
   "source": [
    "file_trunk = '20220505_HEK_ChR2_'\n",
    "\n",
    "# Set Seaborn display features\n",
    "#sns.set_theme()\n",
    "sns.set_style(\"ticks\")\n",
    "sns.set_context(\"notebook\", font_scale=1.1,)"
   ]
  },
  {
   "cell_type": "markdown",
   "id": "802f228c-938d-499e-8685-3378850106af",
   "metadata": {},
   "source": [
    "### Define modules to calculate membrane statistics\n",
    "Modules for calculating: membrane resistance (Rm), access/input resistance (Ra), membrane capacitance (Cm), holding current (Ih), off-kinetics (tau).\n",
    "\n",
    "Largely from: https://github.com/swharden/pyABF/blob/master/docs/advanced/v1%20cookbook/memtest-simulation.ipynb\n"
   ]
  },
  {
   "cell_type": "code",
   "execution_count": null,
   "id": "bbe38512-e29a-40d8-90ad-7a0b93010889",
   "metadata": {},
   "outputs": [],
   "source": [
    "def monoExpTau(data,sample_rate_hz=20000,tau=.1,step=.1):\n",
    "    \"\"\"Given some data which decays to zero, return its time constant (found by successive approximation).\"\"\"\n",
    "    # data : input data that decays to zero\n",
    "    # sample_rate_hz : the dataRate in Hz (points per sec)\n",
    "    # tau : starting value for tau constant (updated by this module)\n",
    "    # step : starting value for interatively adjusting tau constant\n",
    "    \n",
    "    if len(data)==0:\n",
    "        return np.nan\n",
    "    errs = [np.inf]\n",
    "    normed = data/data[0]\n",
    "    Xs = np.arange(len(normed))/sample_rate_hz\n",
    "    while(len(errs)) < 50:\n",
    "        assert len(Xs)==len(data)\n",
    "        tau = np.max((0.000001,tau))\n",
    "        errs.append(np.sum(np.exp(-Xs/tau)-normed))\n",
    "        if np.abs(errs[-1])<0.01:\n",
    "            return tau\n",
    "        if (errs[-1]>0 and errs[-2]<0) or (errs[-1]<0 and errs[-2]>0):\n",
    "            step/=2\n",
    "        if errs[-1]<0:\n",
    "            tau+=step\n",
    "        elif errs[-1]>0:\n",
    "            tau-=step\n",
    "    return tau\n",
    "\n",
    "def memtest(trace1, trace2, rate_hz=10000, dV=10*1e-3, avgLastFrac=.75):\n",
    "    \"\"\"\n",
    "    Given data (pA) immediately after a voltage step, return all membrane test features.\n",
    "    sig1 and sig2 are the downward/upward currents in response to the voltage step.\n",
    "    \"\"\"\n",
    "    # trace1 : current trace between voltage change on and off (i.e. during the voltage step)\n",
    "    # trace2 : current trace after voltage change off (i.e. after the voltage step)\n",
    "    # rate_hz : the dataRate in Hz (points per sec)\n",
    "    # dV : delta/change of the voltage (the size of the voltage step, determined by the stim protocol)\n",
    "    # avgLastFrac : fraction of the traces after which to average out (in order to center traces at zero current)\n",
    "    \n",
    "    # This memtest dictionary is what gets returned at the end.\n",
    "    mt_dict={\"dV\":dV*1e3}   # dV is in units Volts, \"*1e3\" to convert to milliVolts (mV)\n",
    "    \n",
    "    # subtract-out the steady state current so signals are centered at 0\n",
    "    Ih1 = np.average(trace1[int(avgLastFrac*len(trace1)):])\n",
    "    Ih2 = np.average(trace2[int(avgLastFrac*len(trace2)):])\n",
    "    data1 = trace1-Ih1\n",
    "    data2 = trace2-Ih2\n",
    "    \n",
    "    # Mean holding current, Ih, at baseline voltage (where baseline is 'trace2')\n",
    "    mt_dict[\"Ih\"] = Ih2     # same units as in recording, here pA\n",
    "    \n",
    "    # For membrane resistance, Rm, compare the steady-state currents to calculate membrane resistance\n",
    "    dI = (np.abs(Ih2-Ih1)*1e-12)  # difference in current for two steady-states, dI is in Amps (\"*1e-12\" converts pA to A)\n",
    "    Rm = dV/dI                    # resistance (Ohms) = voltage (Volts) / current (Amps)\n",
    "    mt_dict[\"Rm\"] = Rm*1e-6       # Rm is in units Ohms, \"*1e-6\" to convert to MegaOhms (MOhm)\n",
    "    \n",
    "    # Improve the data by averaging the two curves together\n",
    "    point_count = np.min((len(trace1),len(trace2)))\n",
    "    data = np.average((-data1[:point_count],data2[:point_count]),axis=0)\n",
    "    \n",
    "    # Find the points of the trace we intend to fit\n",
    "    peakI = np.where(data==np.max(data))[0][0]\n",
    "    zeroI = np.where(data[peakI:]<=0)[0]\n",
    "    if len(zeroI)==0:\n",
    "        zeroI = peakI\n",
    "    else:\n",
    "        zeroI = zeroI[0]+peakI\n",
    "    \n",
    "    # Fit a monoexponential curve to the data between peak and zero, and record tau\n",
    "    tau = monoExpTau(data[peakI:zeroI])   # tau in seconds\n",
    "    mt_dict[\"tau\"] = tau*1e6      # tau is in units , \"*1e6\" to convert to microSec (us)\n",
    "\n",
    "    # Use tau to guess what I0 probably was at the first point after the step\n",
    "    I0 = np.exp((peakI/rate_hz)/tau)*data[peakI]*1e-12\n",
    "    mt_dict[\"I0\"] = I0*1e12       # I0 is in units Amps, \"*1e12\" to convert to picoAmps (pA)\n",
    "    \n",
    "    # Calculate membrane resistance, Ra = dV/I0\n",
    "    Ra = dV/I0\n",
    "    mt_dict[\"Ra\"] = Ra*1e-6       # Ra is in units Ohms, \"*1e-6\" to convert to MegaOhms (MOhm)\n",
    "\n",
    "    # Calculate membrane capacitance, Cm = tau/Ra\n",
    "    Cm=tau/Ra\n",
    "    mt_dict[\"Cm\"] = Cm*1e12       # Cm is in units Farads, \"*1e12\" to convert to picoFarads (pF)\n",
    "    \n",
    "    return mt_dict\n",
    "    \n",
    "def memtest_display(mt_dict):\n",
    "    \"\"\"Given a memtest dictionary, show the important stuff with its units.\"\"\"\n",
    "    print(\"Rm: %.02f MOhm\"%(mt_dict[\"Rm\"]))\n",
    "    print(\"Ra: %.02f MOhm\"%(mt_dict[\"Ra\"]))\n",
    "    print(\"Cm: %.02f pF\"%(mt_dict[\"Cm\"]))\n",
    "    print(\"tau: %.03f us\"%(mt_dict[\"tau\"]))\n",
    "    print(\"Ih: %.02f pA\"%(mt_dict[\"Ih\"]))"
   ]
  },
  {
   "cell_type": "markdown",
   "id": "4dc4889a-6e5c-408a-9323-a1373cfe9771",
   "metadata": {},
   "source": [
    "### Create list of all abf files with \"memtest\" in their protocol name"
   ]
  },
  {
   "cell_type": "code",
   "execution_count": null,
   "id": "3a31c45d-932c-424c-9522-0e16960ce8aa",
   "metadata": {},
   "outputs": [],
   "source": [
    "# Generate list of all files from current directory ending in \".abf\"\n",
    "path = 'example_abf_files/'\n",
    "list_of_files = sorted(glob2.glob(path + \"*.abf\"))\n",
    "\n",
    "# Create list of only those abf files that have \"memtest\" in their protocol name\n",
    "memtestlist = []\n",
    "for file in list_of_files:\n",
    "    abf = pyabf.ABF(file)\n",
    "    fullstring = abf.protocol\n",
    "    substring = \"memtest\"            \n",
    "    if substring in fullstring:      # Search for the substring in the fullstring\n",
    "        memtestlist.append(file)     # Add the filename to the list\n",
    "\n",
    "# Display the list\n",
    "display(memtestlist)"
   ]
  },
  {
   "cell_type": "markdown",
   "id": "ec82c119-9e30-4908-91ed-873d4918b5c5",
   "metadata": {},
   "source": [
    "### Remove unwanted files from list"
   ]
  },
  {
   "cell_type": "code",
   "execution_count": null,
   "id": "caf1f9bb-8555-4f1d-accd-ab06c3b3e3ad",
   "metadata": {},
   "outputs": [],
   "source": [
    "memtestlist.remove(path + '20220505_0000.abf')\n",
    "display(memtestlist)"
   ]
  },
  {
   "cell_type": "markdown",
   "id": "68c28439-54b0-46c5-8f4c-476cab53d2ca",
   "metadata": {},
   "source": [
    "### Plot example of memtest\n",
    "This is to check that the voltage step epoch is found correctly for this protocol, before proceeding with the calculations."
   ]
  },
  {
   "cell_type": "code",
   "execution_count": null,
   "id": "c2fb8654-0f7b-4a69-b3f5-fab7efcb933d",
   "metadata": {},
   "outputs": [],
   "source": [
    "# Select abf file to plot and load it\n",
    "file = memtestlist[1]\n",
    "abf = pyabf.ABF(file)\n",
    "\n",
    "# Extract the start and end time of the voltage-step epoch\n",
    "epochNumber = 2\n",
    "t1 = abf.sweepEpochs.p1s[epochNumber] * abf.dataSecPerPoint   # start of epoch, converted to time (in sec)\n",
    "t2 = abf.sweepEpochs.p2s[epochNumber] * abf.dataSecPerPoint   # end of epoch, converted to time (in sec)\n",
    "\n",
    "# Set figure parameters\n",
    "plt.figure(figsize=(10, 6))\n",
    "plt.ylabel(abf.sweepLabelY)\n",
    "plt.xlabel(abf.sweepLabelX)\n",
    "plt.title(file)\n",
    "#plt.axis([0, 1, -5000, 5000])\n",
    "plt.grid(alpha=.2)\n",
    "\n",
    "# Plot each sweep in the file\n",
    "for sweepN in abf.sweepList:\n",
    "    abf.setSweep(sweepNumber=sweepN, channel=1)\n",
    "    plt.plot(abf.sweepX, abf.sweepY, alpha=.5, label=\"sweep %d\" % (sweepN))\n",
    "\n",
    "# Annotate step epoch with shaded area\n",
    "plt.axvspan(t1, t2, color='k', alpha=.1, lw=0)\n",
    "\n",
    "# Compile and display plot\n",
    "plt.legend()\n",
    "plt.show()"
   ]
  },
  {
   "cell_type": "markdown",
   "id": "f0fefbc6-7396-42ce-91bc-ba70eb7cc52f",
   "metadata": {},
   "source": [
    "### Calculate memtest statistics for all files in memtestlist\n",
    "Calculate memtest statistics for all files in memtestlist and put all into a dataframe."
   ]
  },
  {
   "cell_type": "code",
   "execution_count": null,
   "id": "47da3292-cd29-4041-b97c-8f3ab758ac4a",
   "metadata": {},
   "outputs": [],
   "source": [
    "# Create database for storing statistics\n",
    "dict = {'Run Count':[],\n",
    "        'Memtest ID':[],\n",
    "        'Date Time':[],\n",
    "        'Membrane Capacitance, Cm (pF)': [],\n",
    "        'Membrane Resistance, Rm (MOhm)': [],\n",
    "        'Access Resistance, Ra (MOhm)': [],\n",
    "        'Tau-off (us)': [],\n",
    "        'Holding Current, Ih (pA)': [],\n",
    "        'Voltage Step, dV (mV)': [],\n",
    "        'Initial Current, I0 (pA)':[],\n",
    "       }\n",
    "df_memtests = pd.DataFrame(dict)\n",
    "\n",
    "# Set a counter start-value to increment after each iteration\n",
    "w = 1\n",
    "\n",
    "# Iterate through the files in the list\n",
    "for runi in memtestlist:\n",
    "    \n",
    "    # Load run for this iteration\n",
    "    abf = pyabf.ABF(runi) \n",
    "    \n",
    "    # Extract the start and end points of the voltage-step epoch (in dataPoints, not seconds)\n",
    "    epochNumber = 2\n",
    "    step_start = abf.sweepEpochs.p1s[epochNumber]+1 #4313   # The sweepEpochs calls need to be right up front\n",
    "    step_end = abf.sweepEpochs.p2s[epochNumber]+1 #12313\n",
    "    dataRate = abf.dataRate\n",
    "    step_size = abs(abf.sweepEpochs.levels[2])*1e-3    # The change in voltage for the voltage-step epoch\n",
    "    \n",
    "    # Calculate the mean current values across all sweeps in the memtest protocol\n",
    "    df_fulltraces = pd.DataFrame({})        # Create an empty dataframe\n",
    "    df_fulltraces['time (s)'] = abf.sweepX  # Put the X-values into the dataframe\n",
    "    totalsweeps = abf.sweepCount\n",
    "    for sweep in range(totalsweeps):        # Iterate through all sweeps and add their Y-values to new columns in the dataframe\n",
    "        abf.setSweep(sweepNumber=sweep, channel=1)\n",
    "        df_fulltraces[sweep] = abf.sweepY\n",
    "    df_fulltraces['Mean trace'] = df_fulltraces.iloc[:, 1:totalsweeps].mean(axis=1)  # Calculate the mean of all the Y-value columns and add to dataframe\n",
    "\n",
    "    # Split the full trace up into sections for calcs\n",
    "    s2 = df_fulltraces['Mean trace'].iloc[step_start:step_end]    # Y-values (current) for voltage-step epoch\n",
    "    s2x = df_fulltraces['time (s)'].iloc[step_start:step_end]     # X-values (time) for voltage-step epoch\n",
    "    s3 = df_fulltraces['Mean trace'].iloc[step_end:]              # Y-values (current) for after voltage-step epoch\n",
    "    s3x = df_fulltraces['time (s)'].iloc[step_end:]               # X-values (time) for after voltage-step epoch\n",
    "    \n",
    "    # Call memtest module to perform calculations\n",
    "    mt_dict = memtest(s2, s3, rate_hz=dataRate, dV=step_size, avgLastFrac=.75)\n",
    "    \n",
    "    # Add values from the output dictionary into the dataframe\n",
    "    df_memtests.loc[len(df_memtests.index)] = [\n",
    "        w, \n",
    "        abf.abfID, \n",
    "        abf.abfDateTime, \n",
    "        mt_dict['Cm'], \n",
    "        mt_dict['Rm'], \n",
    "        mt_dict['Ra'],\n",
    "        mt_dict['tau'],\n",
    "        mt_dict['Ih'],\n",
    "        mt_dict['dV'],\n",
    "        mt_dict['I0'],\n",
    "    ]\n",
    "\n",
    "    w += 1    # Increment the counter\n",
    "\n",
    "display(df_memtests)"
   ]
  },
  {
   "cell_type": "markdown",
   "id": "f47a08ef-0467-4d3a-9a1c-29676b47a43d",
   "metadata": {},
   "source": [
    "### Add columns for cell labels (manual annotation)\n"
   ]
  },
  {
   "cell_type": "code",
   "execution_count": null,
   "id": "9b4c1b57-1308-422b-9a47-7cee1605546f",
   "metadata": {},
   "outputs": [],
   "source": [
    "# Write the lists\n",
    "cellpatchID = []   # For a particular date, what number cell does each memtest correspond to?\n",
    "cellpatchID += 1* ['02']\n",
    "cellpatchID += 1* ['03']\n",
    "cellpatchID += 2* ['04']\n",
    "\n",
    "construct = []  # What is the protein variant's name?\n",
    "construct += 1* ['wildtype']\n",
    "construct += 1* ['mutantX']\n",
    "construct += 2* ['mutantY']\n",
    "\n",
    "initialTest = []  # Was this the first memtest for this cell? (There may be repeated membrane tests for the same cell.)\n",
    "initialTest += 3 * [True]\n",
    "initialTest += 1 * [False]\n",
    "\n",
    "# Add the lists to the dataframe as new columns\n",
    "df_memtests[\"Cell patch ID\"] = cellpatchID\n",
    "df_memtests[\"Construct\"] = construct\n",
    "df_memtests[\"Initial Memtest\"] = initialTest\n",
    "\n",
    "# Change the datatype of a column\n",
    "df_memtests = df_memtests.astype({'Run Count': int}) # Run Count column to integer\n",
    "\n",
    "# Make a unique cell ID by combining the date with the cellpatchID => into new column \"Date_Cell\"\n",
    "df_memtests['Date'] = df_memtests['Memtest ID'].str.replace(r'\\_.*', '', regex=True)   # pull out date from \"Run ID\"\n",
    "df_memtests['Date_Cell'] = df_memtests['Date'] + \"_\" + df_memtests['Cell patch ID'].astype(str)   # combine \"Date\" and \"Cell patch ID\"\n",
    "\n",
    "# Display the dataframe\n",
    "display(df_memtests)"
   ]
  },
  {
   "cell_type": "markdown",
   "id": "2a83de6a-ffd7-43d0-b6e4-b4905fec135b",
   "metadata": {},
   "source": [
    "### Plot all membrane statistics to compare within and between categories\n",
    "The categories here are the Construct names."
   ]
  },
  {
   "cell_type": "code",
   "execution_count": null,
   "id": "792a65c2-184c-4530-8be5-8fad98747ba0",
   "metadata": {},
   "outputs": [],
   "source": [
    "# Set category column for X-axis\n",
    "xcol = \"Construct\"\n",
    "\n",
    "# List of statistics (column names) to plot\n",
    "ycol = ['Membrane Capacitance, Cm (pF)', \n",
    "        'Membrane Resistance, Rm (MOhm)', \n",
    "        'Access Resistance, Ra (MOhm)', \n",
    "        'Tau-off (us)', \n",
    "        'Holding Current, Ih (pA)',\n",
    "        # add more statistics' names here for more plots\n",
    "       ]\n",
    "nSubplots = len(ycol)\n",
    "nSubplots_list = np.arange(0,len(ycol))\n",
    "\n",
    "# Plot the data from each column in the dataframe\n",
    "f, axs = plt.subplots(1, nSubplots, figsize=((nSubplots*3), 4), sharey=False)\n",
    "for i,j in zip(ycol, nSubplots_list):\n",
    "    sns.stripplot(x=xcol, y=i, data=df_memtests, ax=axs[j])\n",
    "    axs[j].tick_params(labelrotation=45)\n",
    "\n",
    "# Seaborn formatting\n",
    "f.tight_layout()\n",
    "sns.despine(fig=f)"
   ]
  },
  {
   "cell_type": "markdown",
   "id": "ec784850-f16d-49e7-b0d6-33db7d03d395",
   "metadata": {},
   "source": [
    "### Save figure as a png file"
   ]
  },
  {
   "cell_type": "code",
   "execution_count": null,
   "id": "37bed2ee",
   "metadata": {},
   "outputs": [],
   "source": [
    "out_path = 'output/'"
   ]
  },
  {
   "cell_type": "code",
   "execution_count": null,
   "id": "3a34689b-500a-4a19-b1b1-59b975a2399c",
   "metadata": {},
   "outputs": [],
   "source": [
    "f.figure.savefig(out_path + file_trunk + \"memtests_stats.png\")"
   ]
  },
  {
   "cell_type": "markdown",
   "id": "9b5ffd1a-bf51-403c-b93a-fd402503553e",
   "metadata": {
    "tags": []
   },
   "source": [
    "### Calculate the mean and standard deviation for each statistic within each category"
   ]
  },
  {
   "cell_type": "code",
   "execution_count": null,
   "id": "96081c77-c94e-44cf-a0d8-1fff39c3d0f4",
   "metadata": {},
   "outputs": [],
   "source": [
    "df_memtest_mean = df_memtests.groupby([\"Construct\"]).mean()\n",
    "df_memtest_mean"
   ]
  },
  {
   "cell_type": "code",
   "execution_count": null,
   "id": "eed34941-3d6a-4478-b6ce-830208f6977d",
   "metadata": {},
   "outputs": [],
   "source": [
    "df_memtest_sdev = df_memtests.groupby([\"Construct\"]).std()\n",
    "df_memtest_sdev"
   ]
  },
  {
   "cell_type": "markdown",
   "id": "194db7d2-c530-488a-9ce4-4947a1d5383b",
   "metadata": {},
   "source": [
    "### Export dataframe to csv file"
   ]
  },
  {
   "cell_type": "code",
   "execution_count": null,
   "id": "3b9fe48f-7594-4c0a-bdf3-7e046c90c664",
   "metadata": {},
   "outputs": [],
   "source": [
    "df_memtests.to_csv(out_path + file_trunk + 'memtests_stats.csv', index=False)\n",
    "df_memtest_mean.to_csv(out_path + file_trunk + 'memtests_stats_byConstruct_mean.csv', index=False)\n",
    "df_memtest_sdev.to_csv(out_path + file_trunk + 'memtests_stats_byConstruct_stdev.csv', index=False)"
   ]
  },
  {
   "cell_type": "code",
   "execution_count": null,
   "id": "8826f974-d1af-4eef-807c-7ad280b8c636",
   "metadata": {},
   "outputs": [],
   "source": []
  }
 ],
 "metadata": {
  "kernelspec": {
   "display_name": "patchclamp",
   "language": "python",
   "name": "python3"
  },
  "language_info": {
   "codemirror_mode": {
    "name": "ipython",
    "version": 3
   },
   "file_extension": ".py",
   "mimetype": "text/x-python",
   "name": "python",
   "nbconvert_exporter": "python",
   "pygments_lexer": "ipython3",
   "version": "3.9.6"
  },
  "vscode": {
   "interpreter": {
    "hash": "ca23d6b76ae31c9053fbb9de1fe54d1c01c27bbf2bee1c8673b71408c6602293"
   }
  }
 },
 "nbformat": 4,
 "nbformat_minor": 5
}
